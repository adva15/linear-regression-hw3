{
 "cells": [
  {
   "cell_type": "code",
   "execution_count": 2,
   "id": "7231e194-e8e4-4bf0-8303-4cdeca2ae02f",
   "metadata": {},
   "outputs": [
    {
     "name": "stdout",
     "output_type": "stream",
     "text": [
      ":המקדמים של מודל רגרסיה לינארית זו הם\n",
      "Intercept (β₀): 1.72\n",
      "Coefficients (β₁, β₂, β₃, β₄): [1.97320904 0.11806371 0.20019818 2.57642763]\n"
     ]
    }
   ],
   "source": [
    "import numpy as np\n",
    "from sklearn.linear_model import LinearRegression\n",
    "\n",
    "# Example features and target\n",
    "X = np.array([\n",
    "    [2, 15, 40, 0],\n",
    "    [5, 16, 45, 1],\n",
    "    [3, 16, 40, 0],\n",
    "    [10, 18, 50, 5],\n",
    "    [7, 17, 45, 3],\n",
    "    [1, 14, 35, 0],\n",
    "    [8, 16, 45, 4],\n",
    "    [4, 15, 40, 1],\n",
    "    [6, 15, 42, 2],\n",
    "    [12, 19, 55, 8]\n",
    "])\n",
    "y = np.array([15, 25, 18, 45, 35, 12, 38, 22, 30, 60])\n",
    "\n",
    "# Fit the model\n",
    "model = LinearRegression()\n",
    "model.fit(X, y)\n",
    "\n",
    "# Get coefficiens\n",
    "# תשובה לשאלה 1\n",
    "print(\":המקדמים של מודל רגרסיה לינארית זו הם\")\n",
    "print(f\"Intercept (β₀): {model.intercept_:.2f}\")\n",
    "print(f\"Coefficients (β₁, β₂, β₃, β₄): {model.coef_}\")"
   ]
  },
  {
   "cell_type": "code",
   "execution_count": 4,
   "id": "bd0ea2bb-39df-4f74-b10d-72038328f85b",
   "metadata": {},
   "outputs": [
    {
     "name": "stdout",
     "output_type": "stream",
     "text": [
      ":משוואת החיזוי המתקבלת\n",
      "y= 1.72 + 1.97320904 + 0.11806371 + 0.20019818 + 2.57642763\n"
     ]
    }
   ],
   "source": [
    "# תשובה לשאלה 2:\n",
    "print(\":משוואת החיזוי המתקבלת\")\n",
    "print(\"y= 1.72 + 1.97320904 + 0.11806371 + 0.20019818 + 2.57642763\")"
   ]
  },
  {
   "cell_type": "code",
   "execution_count": 10,
   "id": "d71b4c4e-7998-4fa0-bd43-56df53226580",
   "metadata": {},
   "outputs": [
    {
     "name": "stdout",
     "output_type": "stream",
     "text": [
      "29.2096506\n"
     ]
    }
   ],
   "source": [
    "# תשובה לשאלה 3 : חזה את המשכורת הצפויה לעובד עם 6 שנות ניסיון, 16 שנות השכלה, 43 שעות עבודה שבועיות, ו-2 שנות ניסיון ניהולי\n",
    "y= 1.72 + 1.97320904*6 + 0.11806371*16 + 0.20019818*43 + 2.57642763*2\n",
    "\n",
    "print(y)"
   ]
  },
  {
   "cell_type": "code",
   "execution_count": null,
   "id": "d5ba015d-04b3-48e9-8012-282c9a1e5042",
   "metadata": {},
   "outputs": [],
   "source": [
    "# תשובה לשאלה 4 : אילו מהמשתנים הם המשפיעים ביותר על המשכורת? הסבר כיצד הגעת למסקנה זו\n",
    "2.57642763 \n",
    "# המשתנה הכי משפיע הינו שנות הניסיון הניהולי כיוון שהוא המשתנה הכי גבוה"
   ]
  }
 ],
 "metadata": {
  "kernelspec": {
   "display_name": "Python 3 (ipykernel)",
   "language": "python",
   "name": "python3"
  },
  "language_info": {
   "codemirror_mode": {
    "name": "ipython",
    "version": 3
   },
   "file_extension": ".py",
   "mimetype": "text/x-python",
   "name": "python",
   "nbconvert_exporter": "python",
   "pygments_lexer": "ipython3",
   "version": "3.12.5"
  }
 },
 "nbformat": 4,
 "nbformat_minor": 5
}
